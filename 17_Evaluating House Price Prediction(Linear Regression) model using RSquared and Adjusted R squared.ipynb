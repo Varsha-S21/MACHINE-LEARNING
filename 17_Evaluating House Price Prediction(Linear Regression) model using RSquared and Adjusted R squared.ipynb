{
 "cells": [
  {
   "cell_type": "code",
   "execution_count": 1,
   "id": "d212cfa4",
   "metadata": {},
   "outputs": [],
   "source": [
    "import numpy as np\n",
    "import pandas as pd\n",
    "import matplotlib.pyplot as plt\n",
    "from sklearn.linear_model import LinearRegression"
   ]
  },
  {
   "cell_type": "code",
   "execution_count": 2,
   "id": "4fa059a0",
   "metadata": {},
   "outputs": [],
   "source": [
    "dataset=pd.read_csv('17_sqdataset1.csv')"
   ]
  },
  {
   "cell_type": "code",
   "execution_count": 3,
   "id": "cbfdb3e6",
   "metadata": {
    "scrolled": true
   },
   "outputs": [
    {
     "name": "stdout",
     "output_type": "stream",
     "text": [
      "(10, 2)\n",
      "   area  price\n",
      "0  1000   2245\n",
      "1  2000   4575\n",
      "2  3000   6874\n",
      "3  4000   8878\n",
      "4  5000  10589\n"
     ]
    }
   ],
   "source": [
    "print(dataset.shape)\n",
    "print(dataset.head(5))"
   ]
  },
  {
   "cell_type": "code",
   "execution_count": 4,
   "id": "9e3d5d38",
   "metadata": {},
   "outputs": [
    {
     "data": {
      "text/plain": [
       "<matplotlib.collections.PathCollection at 0x1cf0b20dc70>"
      ]
     },
     "execution_count": 4,
     "metadata": {},
     "output_type": "execute_result"
    },
    {
     "data": {
      "image/png": "[encoded data removed]",
      "text/plain": [
       "<Figure size 432x288 with 1 Axes>"
      ]
     },
     "metadata": {
      "needs_background": "light"
     },
     "output_type": "display_data"
    }
   ],
   "source": [
    "plt.xlabel('Area')\n",
    "plt.ylabel('Price')\n",
    "plt.scatter(dataset.area,dataset.price,color='blue',marker='*')"
   ]
  },
  {
   "cell_type": "code",
   "execution_count": 5,
   "id": "c446eab3",
   "metadata": {},
   "outputs": [
    {
     "data": {
      "text/html": [
       "<div>\n",
       "<style scoped>\n",
       "    .dataframe tbody tr th:only-of-type {\n",
       "        vertical-align: middle;\n",
       "    }\n",
       "\n",
       "    .dataframe tbody tr th {\n",
       "        vertical-align: top;\n",
       "    }\n",
       "\n",
       "    .dataframe thead th {\n",
       "        text-align: right;\n",
       "    }\n",
       "</style>\n",
       "<table border=\"1\" class=\"dataframe\">\n",
       "  <thead>\n",
       "    <tr style=\"text-align: right;\">\n",
       "      <th></th>\n",
       "      <th>area</th>\n",
       "    </tr>\n",
       "  </thead>\n",
       "  <tbody>\n",
       "    <tr>\n",
       "      <th>0</th>\n",
       "      <td>1000</td>\n",
       "    </tr>\n",
       "    <tr>\n",
       "      <th>1</th>\n",
       "      <td>2000</td>\n",
       "    </tr>\n",
       "    <tr>\n",
       "      <th>2</th>\n",
       "      <td>3000</td>\n",
       "    </tr>\n",
       "    <tr>\n",
       "      <th>3</th>\n",
       "      <td>4000</td>\n",
       "    </tr>\n",
       "    <tr>\n",
       "      <th>4</th>\n",
       "      <td>5000</td>\n",
       "    </tr>\n",
       "    <tr>\n",
       "      <th>5</th>\n",
       "      <td>6000</td>\n",
       "    </tr>\n",
       "    <tr>\n",
       "      <th>6</th>\n",
       "      <td>7000</td>\n",
       "    </tr>\n",
       "    <tr>\n",
       "      <th>7</th>\n",
       "      <td>8000</td>\n",
       "    </tr>\n",
       "    <tr>\n",
       "      <th>8</th>\n",
       "      <td>9000</td>\n",
       "    </tr>\n",
       "    <tr>\n",
       "      <th>9</th>\n",
       "      <td>10000</td>\n",
       "    </tr>\n",
       "  </tbody>\n",
       "</table>\n",
       "</div>"
      ],
      "text/plain": [
       "    area\n",
       "0   1000\n",
       "1   2000\n",
       "2   3000\n",
       "3   4000\n",
       "4   5000\n",
       "5   6000\n",
       "6   7000\n",
       "7   8000\n",
       "8   9000\n",
       "9  10000"
      ]
     },
     "execution_count": 5,
     "metadata": {},
     "output_type": "execute_result"
    }
   ],
   "source": [
    "'''Segregate x and y'''\n",
    "x=dataset.drop('price',axis='columns')\n",
    "x"
   ]
  },
  {
   "cell_type": "code",
   "execution_count": 6,
   "id": "5504d8ae",
   "metadata": {},
   "outputs": [
    {
     "data": {
      "text/plain": [
       "0     2245\n",
       "1     4575\n",
       "2     6874\n",
       "3     8878\n",
       "4    10589\n",
       "5    12457\n",
       "6    14785\n",
       "7    16785\n",
       "8    18958\n",
       "9    20789\n",
       "Name: price, dtype: int64"
      ]
     },
     "execution_count": 6,
     "metadata": {},
     "output_type": "execute_result"
    }
   ],
   "source": [
    "y=dataset.price\n",
    "y"
   ]
  },
  {
   "cell_type": "code",
   "execution_count": 7,
   "id": "9125b8d1",
   "metadata": {},
   "outputs": [],
   "source": [
    "'''train test split'''\n",
    "from sklearn.model_selection import train_test_split\n",
    "x_train,x_test,y_train,y_test=train_test_split(x,y,test_size=0.25,random_state=0)"
   ]
  },
  {
   "cell_type": "code",
   "execution_count": 8,
   "id": "85849f08",
   "metadata": {},
   "outputs": [
    {
     "data": {
      "text/plain": [
       "LinearRegression()"
      ]
     },
     "execution_count": 8,
     "metadata": {},
     "output_type": "execute_result"
    }
   ],
   "source": [
    "'''TRAINING DATASET USING Linear Regression'''\n",
    "model=LinearRegression()\n",
    "model.fit(x_train,y_train)"
   ]
  },
  {
   "cell_type": "code",
   "execution_count": 9,
   "id": "4e091e1f",
   "metadata": {},
   "outputs": [
    {
     "data": {
      "image/png": "[encoded data removed]",
      "text/plain": [
       "<Figure size 432x288 with 1 Axes>"
      ]
     },
     "metadata": {
      "needs_background": "light"
     },
     "output_type": "display_data"
    }
   ],
   "source": [
    "plt.scatter(x,y,color='red',marker='*')\n",
    "plt.plot(x,model.predict(x))\n",
    "plt.title('Linear Regression')\n",
    "plt.xlabel('Area')\n",
    "plt.ylabel('Price')\n",
    "plt.show()\n"
   ]
  },
  {
   "cell_type": "code",
   "execution_count": 10,
   "id": "5776caa4",
   "metadata": {},
   "outputs": [
    {
     "name": "stdout",
     "output_type": "stream",
     "text": [
      "0.998190495241606\n"
     ]
    }
   ],
   "source": [
    "'R squared score=1-(SSR/SST) whr SSR is Sum of Squared Residuals,SST is Sum of Squared Total'\n",
    "rsquared=model.score(x_test,y_test)\n",
    "print(rsquared)"
   ]
  },
  {
   "cell_type": "code",
   "execution_count": 11,
   "id": "0c12c871",
   "metadata": {},
   "outputs": [
    {
     "name": "stdout",
     "output_type": "stream",
     "text": [
      "0.9979643071468067\n"
     ]
    }
   ],
   "source": [
    "'Adjusted R squared of the model=1-[(1-R Squared)*((n-1)/(n-p-1))]'\n",
    "n=len(dataset)  #LENGTH OF TOTAL DATASET\n",
    "p=len(dataset.columns)-1   #LENGTH OF FEATURES\n",
    "adjr=1-(1-rsquared)*(n-1)/(n-p-1)\n",
    "print(adjr)"
   ]
  },
  {
   "cell_type": "code",
   "execution_count": 16,
   "id": "a18f3169",
   "metadata": {},
   "outputs": [
    {
     "name": "stdout",
     "output_type": "stream",
     "text": [
      "[13896.5103139]\n"
     ]
    }
   ],
   "source": [
    "'''Predicted Price for land sq.ft of custom values'''\n",
    "x=6600\n",
    "LandAreainSqft=[[x]]\n",
    "PredictedmodelResult=model.predict(LandAreainSqft)\n",
    "print(PredictedmodelResult)"
   ]
  },
  {
   "cell_type": "code",
   "execution_count": 17,
   "id": "7cb6e87b",
   "metadata": {},
   "outputs": [
    {
     "name": "stdout",
     "output_type": "stream",
     "text": [
      "[2.04409417]\n"
     ]
    }
   ],
   "source": [
    "'''To check if our model is right'''\n",
    "#y=mx+c\n",
    "m=model.coef_\n",
    "print(m)"
   ]
  },
  {
   "cell_type": "code",
   "execution_count": 18,
   "id": "93f59822",
   "metadata": {},
   "outputs": [
    {
     "name": "stdout",
     "output_type": "stream",
     "text": [
      "405.48878923767006\n"
     ]
    }
   ],
   "source": [
    "c=model.intercept_\n",
    "print(c)"
   ]
  },
  {
   "cell_type": "code",
   "execution_count": 15,
   "id": "1d8dd540",
   "metadata": {},
   "outputs": [
    {
     "name": "stdout",
     "output_type": "stream",
     "text": [
      "The price of 6500 square feet land is: 13692.100896860986\n"
     ]
    }
   ],
   "source": [
    "#y=mx+c\n",
    "y=m*x+c\n",
    "print('The price of {0} square feet land is: {1}'.format(x,y[0]))"
   ]
  },
  {
   "cell_type": "code",
   "execution_count": null,
   "id": "41627142",
   "metadata": {},
   "outputs": [],
   "source": []
  },
  {
   "cell_type": "code",
   "execution_count": null,
   "id": "cd80fc3c",
   "metadata": {},
   "outputs": [],
   "source": []
  }
 ],
 "metadata": {
  "kernelspec": {
   "display_name": "Python 3",
   "language": "python",
   "name": "python3"
  },
  "language_info": {
   "codemirror_mode": {
    "name": "ipython",
    "version": 3
   },
   "file_extension": ".py",
   "mimetype": "text/x-python",
   "name": "python",
   "nbconvert_exporter": "python",
   "pygments_lexer": "ipython3",
   "version": "3.8.8"
  }
 },
 "nbformat": 4,
 "nbformat_minor": 5
}
