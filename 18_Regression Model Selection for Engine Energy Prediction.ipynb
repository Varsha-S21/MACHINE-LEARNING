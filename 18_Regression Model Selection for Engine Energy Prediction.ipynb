{
 "cells": [
  {
   "cell_type": "code",
   "execution_count": 1,
   "id": "5792cdb0",
   "metadata": {},
   "outputs": [],
   "source": [
    "import numpy as np\n",
    "import pandas as pd\n",
    "import matplotlib.pyplot as plt"
   ]
  },
  {
   "cell_type": "code",
   "execution_count": 2,
   "id": "3b1fbbba",
   "metadata": {},
   "outputs": [],
   "source": [
    "dataset=pd.read_csv('18_energy_regression_dataset.csv')"
   ]
  },
  {
   "cell_type": "code",
   "execution_count": 3,
   "id": "a8c8d0be",
   "metadata": {},
   "outputs": [
    {
     "name": "stdout",
     "output_type": "stream",
     "text": [
      "(9568, 5)\n",
      "      AT      V       AP     RH      PE\n",
      "0  14.96  41.76  1024.07  73.17  463.26\n",
      "1  25.18  62.96  1020.04  59.08  444.37\n",
      "2   5.11  39.40  1012.16  92.14  488.56\n",
      "3  20.86  57.32  1010.24  76.64  446.48\n",
      "4  10.82  37.50  1009.23  96.62  473.90\n"
     ]
    }
   ],
   "source": [
    "print(dataset.shape)\n",
    "print(dataset.head(5))"
   ]
  },
  {
   "cell_type": "code",
   "execution_count": 4,
   "id": "e69d879c",
   "metadata": {},
   "outputs": [
    {
     "data": {
      "text/plain": [
       "array([[  14.96,   41.76, 1024.07,   73.17],\n",
       "       [  25.18,   62.96, 1020.04,   59.08],\n",
       "       [   5.11,   39.4 , 1012.16,   92.14],\n",
       "       ...,\n",
       "       [  31.32,   74.33, 1012.92,   36.48],\n",
       "       [  24.48,   69.45, 1013.86,   62.39],\n",
       "       [  21.6 ,   62.52, 1017.23,   67.87]])"
      ]
     },
     "execution_count": 4,
     "metadata": {},
     "output_type": "execute_result"
    }
   ],
   "source": [
    "x=dataset.iloc[:,:-1].values\n",
    "x"
   ]
  },
  {
   "cell_type": "code",
   "execution_count": 5,
   "id": "75efa2cd",
   "metadata": {},
   "outputs": [
    {
     "data": {
      "text/plain": [
       "array([463.26, 444.37, 488.56, ..., 429.57, 435.74, 453.28])"
      ]
     },
     "execution_count": 5,
     "metadata": {},
     "output_type": "execute_result"
    }
   ],
   "source": [
    "y=dataset.iloc[:,-1].values\n",
    "y"
   ]
  },
  {
   "cell_type": "code",
   "execution_count": 6,
   "id": "8f370552",
   "metadata": {},
   "outputs": [
    {
     "data": {
      "text/plain": [
       "array([[463.26],\n",
       "       [444.37],\n",
       "       [488.56],\n",
       "       ...,\n",
       "       [429.57],\n",
       "       [435.74],\n",
       "       [453.28]])"
      ]
     },
     "execution_count": 6,
     "metadata": {},
     "output_type": "execute_result"
    }
   ],
   "source": [
    "ysvm=y.reshape(len(y),1)\n",
    "ysvm"
   ]
  },
  {
   "cell_type": "code",
   "execution_count": 7,
   "id": "9de1cec2",
   "metadata": {},
   "outputs": [],
   "source": [
    "'''train test split'''\n",
    "from sklearn.model_selection import train_test_split\n",
    "x_train,x_test,y_train,y_test=train_test_split(x,y,test_size=0.25,random_state=0)\n",
    "x_trainsvm,x_testsvm,y_trainsvm,y_testsvm=train_test_split(x,ysvm,test_size=0.25,random_state=0)\n"
   ]
  },
  {
   "cell_type": "code",
   "execution_count": 8,
   "id": "c1742f62",
   "metadata": {},
   "outputs": [],
   "source": [
    "'''Importing ML ALG'''\n",
    "from sklearn.linear_model import LinearRegression\n",
    "from sklearn.preprocessing import PolynomialFeatures\n",
    "from sklearn.ensemble import RandomForestRegressor\n",
    "from sklearn.tree import DecisionTreeRegressor\n",
    "from sklearn.svm import SVR \n",
    "\n"
   ]
  },
  {
   "cell_type": "code",
   "execution_count": 9,
   "id": "883b1df9",
   "metadata": {},
   "outputs": [],
   "source": [
    "'''INITIALIZING DIFF REGRESSION ALG'''\n",
    "from sklearn.preprocessing import StandardScaler\n",
    "\n",
    "modelLR=LinearRegression()\n",
    "\n",
    "poly_reg=PolynomialFeatures(degree=4)\n",
    "x_poly=poly_reg.fit_transform(x_train)\n",
    "modelPLR=LinearRegression()\n",
    "\n",
    "modelRFR=RandomForestRegressor(n_estimators=10,random_state=0)\n",
    "\n",
    "modelDTR=DecisionTreeRegressor(random_state=0)\n",
    "\n",
    "modelSVR=SVR(kernel='rbf')\n",
    "\n",
    "sc_x=StandardScaler()\n",
    "sc_y=StandardScaler()\n",
    "x_trainsvm=sc_x.fit_transform(x_trainsvm)\n",
    "y_trainsvm=sc_y.fit_transform(y_trainsvm)\n"
   ]
  },
  {
   "cell_type": "code",
   "execution_count": 10,
   "id": "136c831a",
   "metadata": {},
   "outputs": [
    {
     "name": "stderr",
     "output_type": "stream",
     "text": [
      "D:\\Anaconda\\lib\\site-packages\\sklearn\\utils\\validation.py:63: DataConversionWarning: A column-vector y was passed when a 1d array was expected. Please change the shape of y to (n_samples, ), for example using ravel().\n",
      "  return f(*args, **kwargs)\n"
     ]
    },
    {
     "data": {
      "text/plain": [
       "SVR()"
      ]
     },
     "execution_count": 10,
     "metadata": {},
     "output_type": "execute_result"
    }
   ],
   "source": [
    "'''TRAINING REGRESSION ALG'''\n",
    "modelLR.fit(x_train, y_train)\n",
    "modelPLR.fit(x_poly, y_train)\n",
    "modelRFR.fit(x_train, y_train)\n",
    "modelDTR.fit(x_train, y_train)\n",
    "modelSVR.fit(x_trainsvm, y_trainsvm)"
   ]
  },
  {
   "cell_type": "code",
   "execution_count": 11,
   "id": "ef5e1122",
   "metadata": {},
   "outputs": [],
   "source": [
    "'''PREDICTING TEST SET FOR VALIDATION'''\n",
    "modelLRy_pred  = modelLR.predict(x_test)\n",
    "modelPLRy_pred = modelPLR.predict(poly_reg.transform(x_test))\n",
    "modelRFRy_pred = modelRFR.predict(x_test)\n",
    "modelDTRy_pred = modelDTR.predict(x_test)\n",
    "modelSVRy_pred = sc_y.inverse_transform(modelSVR.predict(sc_x.transform(x_test)))"
   ]
  },
  {
   "cell_type": "code",
   "execution_count": 12,
   "id": "bac3ef59",
   "metadata": {},
   "outputs": [
    {
     "name": "stdout",
     "output_type": "stream",
     "text": [
      "Linear Regression Accuracy: 0.9323789104734466\n",
      "Polynomial Regression Accuracy: 0.9459731226546759\n",
      "Random Forest Regression Accuracy: 0.960853142550123\n",
      "Decision Treee Regression Accuracy: 0.9229733351311707\n",
      "Support Vector Regression Accuracy: 0.9483940635883192\n"
     ]
    }
   ],
   "source": [
    "'''EVALUATING MODEL PERFORMANCE'''\n",
    "from sklearn.metrics import r2_score\n",
    "print(\"Linear Regression Accuracy: {}\".format(r2_score(y_test, modelLRy_pred)))\n",
    "print(\"Polynomial Regression Accuracy: {}\".format(r2_score(y_test, modelPLRy_pred)))\n",
    "print(\"Random Forest Regression Accuracy: {}\".format(r2_score(y_test, modelRFRy_pred)))\n",
    "print(\"Decision Treee Regression Accuracy: {}\".format(r2_score(y_test, modelDTRy_pred)))\n",
    "print(\"Support Vector Regression Accuracy: {}\".format(r2_score(y_test, modelSVRy_pred)))"
   ]
  },
  {
   "cell_type": "code",
   "execution_count": null,
   "id": "ff0f584c",
   "metadata": {},
   "outputs": [],
   "source": []
  }
 ],
 "metadata": {
  "kernelspec": {
   "display_name": "Python 3",
   "language": "python",
   "name": "python3"
  },
  "language_info": {
   "codemirror_mode": {
    "name": "ipython",
    "version": 3
   },
   "file_extension": ".py",
   "mimetype": "text/x-python",
   "name": "python",
   "nbconvert_exporter": "python",
   "pygments_lexer": "ipython3",
   "version": "3.8.8"
  }
 },
 "nbformat": 4,
 "nbformat_minor": 5
}
