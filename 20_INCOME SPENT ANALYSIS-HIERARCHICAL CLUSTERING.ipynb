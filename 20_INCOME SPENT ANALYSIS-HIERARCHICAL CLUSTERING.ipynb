{
 "cells": [
  {
   "cell_type": "code",
   "execution_count": 1,
   "id": "059f00a3",
   "metadata": {},
   "outputs": [],
   "source": [
    "import numpy as np\n",
    "import pandas as pd\n",
    "import matplotlib.pyplot as plt"
   ]
  },
  {
   "cell_type": "code",
   "execution_count": 2,
   "id": "55579353",
   "metadata": {},
   "outputs": [],
   "source": [
    "dataset=pd.read_csv('20_Hierarchical_Clustering_dataset.csv')"
   ]
  },
  {
   "cell_type": "code",
   "execution_count": 3,
   "id": "8dd85cc0",
   "metadata": {},
   "outputs": [
    {
     "name": "stdout",
     "output_type": "stream",
     "text": [
      "(200, 5)\n",
      "   CustomerID  Gender  Age  Annual Income (k$)  Spending Score\n",
      "0           1    Male   19                  15              39\n",
      "1           2    Male   21                  15              81\n",
      "2           3  Female   20                  16               6\n",
      "3           4  Female   23                  16              77\n",
      "4           5  Female   31                  17              40\n",
      "       CustomerID         Age  Annual Income (k$)  Spending Score\n",
      "count  200.000000  200.000000          200.000000      200.000000\n",
      "mean   100.500000   38.850000           60.560000       50.200000\n",
      "std     57.879185   13.969007           26.264721       25.823522\n",
      "min      1.000000   18.000000           15.000000        1.000000\n",
      "25%     50.750000   28.750000           41.500000       34.750000\n",
      "50%    100.500000   36.000000           61.500000       50.000000\n",
      "75%    150.250000   49.000000           78.000000       73.000000\n",
      "max    200.000000   70.000000          137.000000       99.000000\n"
     ]
    }
   ],
   "source": [
    "print(dataset.shape)\n",
    "print(dataset.head(5))\n",
    "print(dataset.describe())"
   ]
  },
  {
   "cell_type": "code",
   "execution_count": 4,
   "id": "9139448c",
   "metadata": {},
   "outputs": [
    {
     "data": {
      "text/html": [
       "<div>\n",
       "<style scoped>\n",
       "    .dataframe tbody tr th:only-of-type {\n",
       "        vertical-align: middle;\n",
       "    }\n",
       "\n",
       "    .dataframe tbody tr th {\n",
       "        vertical-align: top;\n",
       "    }\n",
       "\n",
       "    .dataframe thead th {\n",
       "        text-align: right;\n",
       "    }\n",
       "</style>\n",
       "<table border=\"1\" class=\"dataframe\">\n",
       "  <thead>\n",
       "    <tr style=\"text-align: right;\">\n",
       "      <th></th>\n",
       "      <th>CustomerID</th>\n",
       "      <th>Gender</th>\n",
       "      <th>Age</th>\n",
       "      <th>Annual Income (k$)</th>\n",
       "      <th>Spending Score</th>\n",
       "    </tr>\n",
       "  </thead>\n",
       "  <tbody>\n",
       "    <tr>\n",
       "      <th>0</th>\n",
       "      <td>1</td>\n",
       "      <td>1</td>\n",
       "      <td>19</td>\n",
       "      <td>15</td>\n",
       "      <td>39</td>\n",
       "    </tr>\n",
       "    <tr>\n",
       "      <th>1</th>\n",
       "      <td>2</td>\n",
       "      <td>1</td>\n",
       "      <td>21</td>\n",
       "      <td>15</td>\n",
       "      <td>81</td>\n",
       "    </tr>\n",
       "    <tr>\n",
       "      <th>2</th>\n",
       "      <td>3</td>\n",
       "      <td>0</td>\n",
       "      <td>20</td>\n",
       "      <td>16</td>\n",
       "      <td>6</td>\n",
       "    </tr>\n",
       "    <tr>\n",
       "      <th>3</th>\n",
       "      <td>4</td>\n",
       "      <td>0</td>\n",
       "      <td>23</td>\n",
       "      <td>16</td>\n",
       "      <td>77</td>\n",
       "    </tr>\n",
       "    <tr>\n",
       "      <th>4</th>\n",
       "      <td>5</td>\n",
       "      <td>0</td>\n",
       "      <td>31</td>\n",
       "      <td>17</td>\n",
       "      <td>40</td>\n",
       "    </tr>\n",
       "  </tbody>\n",
       "</table>\n",
       "</div>"
      ],
      "text/plain": [
       "   CustomerID  Gender  Age  Annual Income (k$)  Spending Score\n",
       "0           1       1   19                  15              39\n",
       "1           2       1   21                  15              81\n",
       "2           3       0   20                  16               6\n",
       "3           4       0   23                  16              77\n",
       "4           5       0   31                  17              40"
      ]
     },
     "execution_count": 4,
     "metadata": {},
     "output_type": "execute_result"
    }
   ],
   "source": [
    "'''LABEL ENCODING'''\n",
    "from sklearn import preprocessing\n",
    "label_encoder=preprocessing.LabelEncoder()\n",
    "dataset['Gender']=label_encoder.fit_transform(dataset['Gender'])\n",
    "dataset.head()"
   ]
  },
  {
   "cell_type": "code",
   "execution_count": 5,
   "id": "63b1847a",
   "metadata": {},
   "outputs": [
    {
     "data": {
      "image/png": "[encoded data removed]",
      "text/plain": [
       "<Figure size 1440x576 with 1 Axes>"
      ]
     },
     "metadata": {
      "needs_background": "light"
     },
     "output_type": "display_data"
    }
   ],
   "source": [
    "'''DENDROGRAM DATA VISUALIZATION'''\n",
    "import scipy.cluster.hierarchy as clus\n",
    "\n",
    "plt.figure(1,figsize=(20,8))\n",
    "dendrogram=clus.dendrogram(clus.linkage(dataset,method='ward'))\n",
    "\n",
    "plt.title('Dendrogram Tree Graph')\n",
    "plt.xlabel('Customers')\n",
    "plt.ylabel('Distances')\n",
    "plt.show()"
   ]
  },
  {
   "cell_type": "code",
   "execution_count": 6,
   "id": "bafd9d15",
   "metadata": {},
   "outputs": [
    {
     "data": {
      "text/plain": [
       "array([1, 4, 1, 4, 1, 4, 1, 4, 1, 4, 1, 4, 1, 4, 1, 4, 1, 4, 1, 4, 1, 4,\n",
       "       1, 4, 1, 4, 1, 4, 1, 4, 1, 4, 1, 4, 1, 4, 1, 4, 1, 4, 1, 4, 1, 0,\n",
       "       1, 0, 0, 0, 0, 0, 0, 0, 0, 0, 0, 0, 0, 0, 0, 0, 0, 0, 0, 0, 0, 0,\n",
       "       0, 0, 0, 0, 0, 0, 0, 0, 0, 0, 0, 0, 0, 0, 0, 0, 0, 0, 0, 0, 0, 0,\n",
       "       0, 0, 0, 0, 0, 0, 0, 0, 0, 0, 0, 0, 0, 0, 0, 0, 0, 0, 0, 0, 0, 0,\n",
       "       0, 0, 0, 0, 0, 0, 0, 0, 0, 0, 0, 0, 0, 6, 5, 6, 0, 6, 5, 6, 5, 6,\n",
       "       5, 6, 5, 6, 5, 6, 5, 6, 5, 6, 5, 6, 5, 6, 5, 6, 5, 6, 5, 6, 5, 6,\n",
       "       5, 6, 5, 6, 5, 6, 5, 6, 5, 2, 3, 6, 3, 2, 3, 2, 3, 2, 3, 2, 3, 2,\n",
       "       3, 2, 3, 2, 3, 2, 3, 2, 3, 2, 3, 2, 3, 2, 3, 2, 3, 2, 3, 2, 3, 2,\n",
       "       3, 2], dtype=int64)"
      ]
     },
     "execution_count": 6,
     "metadata": {},
     "output_type": "execute_result"
    }
   ],
   "source": [
    "'''FITTINHG HIERARCHICAL CLUSTERING TO THE DATASET WITH n=5'''\n",
    "#Agglomerative Cluster-sequentially merging similar clusters\n",
    "from sklearn.cluster import AgglomerativeClustering\n",
    "model=AgglomerativeClustering(n_clusters=7,affinity='euclidean',linkage='average',compute_full_tree='auto')\n",
    "y_means=model.fit_predict(dataset)\n",
    "y_means\n"
   ]
  },
  {
   "cell_type": "markdown",
   "id": "e928e1ae",
   "metadata": {},
   "source": [
    "'''VISUALIZING THE NUMBER OF CLUSTER n=6'''\n",
    "\n",
    "Cluster 1:Customer with medium income and medium spending\n",
    "Cluster 2:Customer with high income and high spending\n",
    "Cluster 3:Customer with low income and low spending   \n",
    "Cluster 4:Customer with high income and low spending    \n",
    "Cluster 5:Customer with low income and high spending  \n",
    "cluster 6:Customer with medium income and low spending\n",
    "cluster 7:Customer with medium income and high spending"
   ]
  },
  {
   "cell_type": "code",
   "execution_count": 7,
   "id": "8a2b8001",
   "metadata": {},
   "outputs": [
    {
     "data": {
      "image/png": "[encoded data removed]",
      "text/plain": [
       "<Figure size 432x288 with 1 Axes>"
      ]
     },
     "metadata": {
      "needs_background": "light"
     },
     "output_type": "display_data"
    }
   ],
   "source": [
    "x=dataset.iloc[:,[3,4]].values\n",
    "plt.scatter(x[y_means==0,0],x[y_means==0,1],s=50,c='purple',label='Cluster 1')\n",
    "plt.scatter(x[y_means==1,0],x[y_means==1,1],s=50,c='green',label='Cluster 2')\n",
    "plt.scatter(x[y_means==2,0],x[y_means==2,1],s=50,c='red',label='Cluster 3')\n",
    "plt.scatter(x[y_means==3,0],x[y_means==3,1],s=50,c='orange',label='Cluster 4')\n",
    "plt.scatter(x[y_means==4,0],x[y_means==4,1],s=50,c='cyan',label='Cluster 5')\n",
    "plt.scatter(x[y_means==5,0],x[y_means==5,1],s=50,c='yellow',label='Cluster 6')\n",
    "plt.scatter(x[y_means==6,0],x[y_means==6,1],s=50,c='Blue',label='Cluster 7')\n",
    "\n",
    "plt.title('INCOME SPENT ANALYSIS-HIERARCHICAL CLUSTERING')\n",
    "\n",
    "plt.xlabel('Income')\n",
    "plt.ylabel('Spent')\n",
    "plt.show()"
   ]
  },
  {
   "cell_type": "code",
   "execution_count": null,
   "id": "57a5d658",
   "metadata": {},
   "outputs": [],
   "source": []
  }
 ],
 "metadata": {
  "kernelspec": {
   "display_name": "Python 3",
   "language": "python",
   "name": "python3"
  },
  "language_info": {
   "codemirror_mode": {
    "name": "ipython",
    "version": 3
   },
   "file_extension": ".py",
   "mimetype": "text/x-python",
   "name": "python",
   "nbconvert_exporter": "python",
   "pygments_lexer": "ipython3",
   "version": "3.8.8"
  }
 },
 "nbformat": 4,
 "nbformat_minor": 5
}
